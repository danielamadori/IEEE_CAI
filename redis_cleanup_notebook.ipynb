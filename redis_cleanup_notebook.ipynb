{
 "cells": [
  {
   "cell_type": "markdown",
   "metadata": {},
   "source": [
    "# Redis database cleanup\n",
    "\n",
    "This notebook walks you through connecting to every Redis instance used by the project and clearing their contents. It is intended for development or staging environments where you need to start from an empty database.\n",
    "\n",
    "> ⚠️ **Warning:** the cleanup operation is irreversible. Make sure you have an up-to-date backup before continuing.\n"
   ],
   "id": "7e6eb9f588d5748"
  },
  {
   "cell_type": "markdown",
   "metadata": {},
   "source": [
    "## Prerequisites\n",
    "\n",
    "* A reachable Redis server (listening on `localhost:6379` by default).\n",
    "* Access credentials (if the Redis server requires them).\n",
    "* A Python environment that includes the `redis` library and the project package shipped with this repository.\n"
   ],
   "id": "175af197f2cf75d2"
  },
  {
   "cell_type": "code",
   "metadata": {},
   "source": [
    "import redis\n",
    "from redis_helpers.utils import clean_all_databases\n",
    "\n",
    "print(\"Libraries imported successfully.\")\n"
   ],
   "id": "c4235afcace4aeaf",
   "outputs": [],
   "execution_count": null
  },
  {
   "cell_type": "code",
   "metadata": {},
   "source": [
    "# Connection parameters (update as needed)\n",
    "REDIS_HOST = \"localhost\"\n",
    "REDIS_PORT = 6379\n",
    "REDIS_PASSWORD = None  # Set the password if the server requires it\n",
    "USE_SSL = False        # Set to True when the Redis server is exposed via TLS/SSL\n",
    "\n",
    "# Database mapping used by the project\n",
    "DB_MAPPING = {\n",
    "    \"DATA\": 0,\n",
    "    \"CAN\": 1,\n",
    "    \"R\": 2,\n",
    "    \"NR\": 3,\n",
    "    \"CAR\": 4,\n",
    "    \"AR\": 5,\n",
    "    \"GP\": 6,\n",
    "    \"BP\": 7,\n",
    "    \"PR\": 8,\n",
    "    \"AP\": 9,\n",
    "    \"LOGS\": 10,\n",
    "}\n",
    "\n",
    "BASE_REDIS_CONFIG = {\n",
    "    \"host\": REDIS_HOST,\n",
    "    \"port\": REDIS_PORT,\n",
    "    \"decode_responses\": True,\n",
    "    \"ssl\": USE_SSL,\n",
    "}\n",
    "\n",
    "if REDIS_PASSWORD not in (None, \"\"):\n",
    "    BASE_REDIS_CONFIG[\"password\"] = REDIS_PASSWORD\n",
    "\n",
    "print(\"Base configuration ready. Update the values above if needed.\")\n"
   ],
   "id": "4a12f2e752e3637c",
   "outputs": [],
   "execution_count": null
  },
  {
   "cell_type": "code",
   "metadata": {},
   "source": [
    "def connect_to_databases(base_config, db_mapping):\n",
    "    '''Create a Redis connection for each entry in the mapping.'''\n",
    "    connections = {}\n",
    "    for name, db_id in db_mapping.items():\n",
    "        params = dict(base_config)\n",
    "        params[\"db\"] = db_id\n",
    "        try:\n",
    "            conn = redis.Redis(**params)\n",
    "            conn.ping()\n",
    "        except redis.RedisError as exc:\n",
    "            raise RuntimeError(f\"Connection to Redis DB {db_id} ({name}) failed: {exc}\") from exc\n",
    "        connections[name] = conn\n",
    "        print(f\"Connected to Redis DB {db_id} ({name})\")\n",
    "    print(f\"\\nTotal active connections: {len(connections)}\")\n",
    "    return connections\n",
    "\n",
    "\n",
    "def describe_database_sizes(connections):\n",
    "    '''Return the number of keys stored in each database.'''\n",
    "    summary = {}\n",
    "\n",
    "    for name, conn in connections.items():\n",
    "        try:\n",
    "            summary[name] = conn.dbsize()\n",
    "        except redis.RedisError as exc:\n",
    "            summary[name] = f\"Error: {exc}\"\n",
    "    return summary\n",
    "\n",
    "\n",
    "connections = connect_to_databases(BASE_REDIS_CONFIG, DB_MAPPING)\n",
    "\n",
    "pre_cleanup = describe_database_sizes(connections)\n",
    "print(\"\\nKeys present before cleanup:\")\n",
    "for name, size in pre_cleanup.items():\n",
    "    print(f\" - {name} (DB {DB_MAPPING[name]}): {size}\")\n"
   ],
   "id": "c482218dcd8befa8",
   "outputs": [],
   "execution_count": null
  },
  {
   "cell_type": "markdown",
   "metadata": {},
   "source": [
    "## Manual confirmation\n",
    "\n",
    "To avoid accidental deletions, run the next cell and type `YES` when prompted. Any other input will cancel the operation.\n"
   ],
   "id": "84fd6c9c8724b200"
  },
  {
   "cell_type": "code",
   "metadata": {},
   "source": [
    "confirmation = input(\"Type 'YES' to proceed with the full database cleanup: \").strip().upper()\n",
    "if confirmation != \"YES\":\n",
    "    raise SystemExit(\"Operation cancelled by the user.\")\n",
    "\n",
    "clean_all_databases(connections, DB_MAPPING)\n"
   ],
   "id": "cef214ad65ec1abc",
   "outputs": [],
   "execution_count": null
  },
  {
   "cell_type": "code",
   "metadata": {},
   "source": [
    "post_cleanup = describe_database_sizes(connections)\n",
    "print(\"\\nKeys present after cleanup:\")\n",
    "for name, size in post_cleanup.items():\n",
    "    print(f\" - {name} (DB {DB_MAPPING[name]}): {size}\")\n"
   ],
   "id": "3ee30f067ad8136f",
   "outputs": [],
   "execution_count": null
  },
  {
   "cell_type": "markdown",
   "metadata": {},
   "source": [
    "If every database reports `0` keys, the cleanup completed successfully.\n"
   ],
   "id": "3b301545e03142ff"
  }
 ],
 "metadata": {
  "kernelspec": {
   "display_name": "Python 3",
   "language": "python",
   "name": "python3"
  },
  "language_info": {
   "name": "python",
   "version": "3.10"
  }
 },
 "nbformat": 4,
 "nbformat_minor": 5
}
