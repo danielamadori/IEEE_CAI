{
 "cells": [
  {
   "cell_type": "markdown",
   "metadata": {},
   "source": [
    "# Redis backup and migration\n",
    "\n",
    "This notebook walks through saving the state of a Redis database and restoring it on another instance by providing the target IP address and port. The workflow serialises every key using the native Redis commands for its data type (strings, hashes, lists, sets, sorted sets) while preserving TTL metadata and falling back to `DUMP`/`RESTORE` for unsupported types.\n"
   ],
   "id": "6e5e4e02ca3d3535"
  },
  {
   "cell_type": "markdown",
   "metadata": {},
   "source": [
    "## How to use this notebook\n",
    "\n",
    "1. Update the connection configurations (`SOURCE_REDIS_CONFIG` and `TARGET_REDIS_CONFIG`) with the IP address, port, database, and credentials for the instances you want to use.\n",
    "2. Run the **Connection check** section to confirm access to the databases.\n",
    "3. Execute the **Create backup** section to generate a JSON file containing the entire state of the source Redis instance.\n",
    "4. Optionally transfer the file to another machine.\n",
    "5. Run the **Restore backup** section to recreate the data on the target Redis instance.\n",
    "\n",
    "⚠️ Cells that interact with Redis perform real operations on the database: enable the `FLUSH_TARGET_BEFORE_RESTORE` option carefully.\n"
   ],
   "id": "aa91d1665ab4467b"
  },
  {
   "cell_type": "code",
   "metadata": {},
   "source": [
    "from pathlib import Path\n",
    "from typing import Any, Dict\n",
    "\n",
    "from redis.exceptions import ConnectionError, ResponseError\n",
    "\n",
    "from redis_backup import (\n",
    "    DEFAULT_REDIS_DATABASES,\n",
    "    create_multi_database_backup,\n",
    "    display_backup_summary,\n",
    "    get_database_overview,\n",
    "    load_multi_database_backup_from_directory,\n",
    "    restore_multi_database_backup,\n",
    "    save_multi_database_backup_to_directory,\n",
    ")\n"
   ],
   "id": "d6435aae98aede06",
   "outputs": [],
   "execution_count": null
  },
  {
   "cell_type": "code",
   "metadata": {},
   "source": [
    "# Redis instance configuration\n",
    "SOURCE_REDIS_CONFIG: Dict[str, Any] = {\n",
    "    \"host\": \"127.0.0.1\",  # Source instance IP or hostname\n",
    "    \"port\": 6379,\n",
    "    \"db\": 0,\n",
    "    \"username\": None,  # Set a value if the server requires ACL authentication\n",
    "    \"password\": None,\n",
    "}\n",
    "\n",
    "TARGET_REDIS_CONFIG: Dict[str, Any] = {\n",
    "    \"host\": \"127.0.0.1\",  # Target instance IP or hostname\n",
    "    \"port\": 6380,\n",
    "    \"db\": 0,\n",
    "    \"username\": None,\n",
    "    \"password\": None,\n",
    "}\n",
    "\n",
    "DATABASES_TO_MIGRATE = tuple(DEFAULT_REDIS_DATABASES)  # Databases 0 through 10\n",
    "BACKUP_DIRECTORY = Path(\"redis_backups\")  # Directory where backups will be stored\n",
    "SCAN_COUNT = 1000  # Number of keys inspected per iteration during the SCAN\n",
    "FLUSH_TARGET_BEFORE_RESTORE = False  # Set True to flush the target DB before restoring\n"
   ],
   "id": "c27e4f30a2b3a3b8",
   "outputs": [],
   "execution_count": null
  },
  {
   "cell_type": "code",
   "metadata": {},
   "source": [
    "# Helper functions are provided by the `redis_backup` module.\n",
    "# You can open the `redis_backup.py` file to review the implementation or\n",
    "# reuse them in other Python scripts.\n"
   ],
   "id": "560e97b77ea4cfe8",
   "outputs": [],
   "execution_count": null
  },
  {
   "cell_type": "code",
   "metadata": {},
   "source": [
    "# Connection check (optional but recommended)\n",
    "for label, configuration in ((\"Source\", SOURCE_REDIS_CONFIG), (\"Target\", TARGET_REDIS_CONFIG)):\n",
    "    try:\n",
    "        overview = get_database_overview(configuration)\n",
    "        print(\n",
    "            f\"{label}: Redis {overview['redis_version']} (mode {overview['redis_mode']}) - \"\n",
    "            f\"{overview['key_count']} keys in DB {overview['db']}\"\n",
    "        )\n",
    "    except ConnectionError as error:\n",
    "        print(f\"{label}: unable to connect -> {error}\")\n"
   ],
   "id": "d5f2389c26902b9b",
   "outputs": [],
   "execution_count": null
  },
  {
   "cell_type": "code",
   "metadata": {},
   "source": [
    "# Create the backup from the source Redis instance\n",
    "try:\n",
    "    backup_payloads = create_multi_database_backup(\n",
    "        SOURCE_REDIS_CONFIG,\n",
    "        databases=DATABASES_TO_MIGRATE,\n",
    "        scan_count=SCAN_COUNT,\n",
    "    )\n",
    "    save_multi_database_backup_to_directory(\n",
    "        backup_payloads,\n",
    "        BACKUP_DIRECTORY,\n",
    "        file_prefix=\"redis_backup\",\n",
    "    )\n",
    "    total_keys = sum(payload[\"metadata\"][\"key_count\"] for payload in backup_payloads.values())\n",
    "    print(\n",
    "        f\"Backup completed: {total_keys} keys saved across {len(backup_payloads)} databases.\"\n",
    "    )\n",
    "    print(f\"Files generated in: {BACKUP_DIRECTORY.resolve()}\")\n",
    "    for db, payload in sorted(backup_payloads.items()):\n",
    "        print()\n",
    "        print(f\"Database {db}:\")\n",
    "        display_backup_summary(payload)\n",
    "except ConnectionError as error:\n",
    "    print(f\"Source Redis connection failed: {error}\")\n",
    "except ResponseError as error:\n",
    "    print(f\"Error during export: {error}\")\n"
   ],
   "id": "20c82d6c883ac7a5",
   "outputs": [],
   "execution_count": null
  },
  {
   "cell_type": "code",
   "metadata": {},
   "source": [
    "# Restore the backup on the target Redis instance\n",
    "try:\n",
    "    backup_payloads = load_multi_database_backup_from_directory(BACKUP_DIRECTORY)\n",
    "    restored_counts = restore_multi_database_backup(\n",
    "        backup_payloads,\n",
    "        TARGET_REDIS_CONFIG,\n",
    "        flush_each=FLUSH_TARGET_BEFORE_RESTORE,\n",
    "    )\n",
    "    total_restored = sum(restored_counts.values())\n",
    "    print(\n",
    "        f\"Restore completed: {total_restored} keys imported across {len(restored_counts)} databases.\"\n",
    "    )\n",
    "    for db, restored in sorted(restored_counts.items()):\n",
    "        print(f\"  Database {db}: {restored} keys restored\")\n",
    "except FileNotFoundError:\n",
    "    print(f\"Backup directory not found: {BACKUP_DIRECTORY}\")\n",
    "except ConnectionError as error:\n",
    "    print(f\"Target Redis connection failed: {error}\")\n",
    "except ResponseError as error:\n",
    "    print(f\"Error during restore: {error}\")\n"
   ],
   "id": "e33137a07bec103f",
   "outputs": [],
   "execution_count": null
  }
 ],
 "metadata": {
  "kernelspec": {
   "display_name": "Python 3",
   "language": "python",
   "name": "python3"
  },
  "language_info": {
   "name": "python",
   "version": "3.x"
  }
 },
 "nbformat": 4,
 "nbformat_minor": 5
}
